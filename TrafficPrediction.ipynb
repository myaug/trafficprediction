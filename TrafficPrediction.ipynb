{
 "cells": [
  {
   "cell_type": "markdown",
   "metadata": {},
   "source": [
    "<center><h1>TRAFFIC PREDICTION IN NETWORK</h1></center>"
   ]
  },
  {
   "cell_type": "code",
   "execution_count": 3,
   "metadata": {},
   "outputs": [
    {
     "name": "stderr",
     "output_type": "stream",
     "text": [
      "D:\\Anaconda3\\lib\\site-packages\\sklearn\\cross_validation.py:41: DeprecationWarning: This module was deprecated in version 0.18 in favor of the model_selection module into which all the refactored classes and functions are moved. Also note that the interface of the new CV iterators are different from that of this module. This module will be removed in 0.20.\n",
      "  \"This module will be removed in 0.20.\", DeprecationWarning)\n",
      "D:\\Anaconda3\\lib\\site-packages\\h5py\\__init__.py:36: FutureWarning: Conversion of the second argument of issubdtype from `float` to `np.floating` is deprecated. In future, it will be treated as `np.float64 == np.dtype(float).type`.\n",
      "  from ._conv import register_converters as _register_converters\n",
      "Using TensorFlow backend.\n"
     ]
    }
   ],
   "source": [
    "import numpy as np\n",
    "import pandas as pd\n",
    "import matplotlib.pyplot as plt\n",
    "from sklearn import preprocessing,cross_validation,svm\n",
    "from sklearn.linear_model import LinearRegression\n",
    "import seaborn as sns\n",
    "# example of making predictions for a regression problem\n",
    "from keras.models import Sequential\n",
    "from keras.layers import Dense\n",
    "from sklearn.datasets import make_regression\n",
    "from sklearn.preprocessing import MinMaxScaler, StandardScaler\n",
    "from numpy import array\n",
    "from random import shuffle\n",
    "from sklearn.metrics import accuracy_score\n",
    "from sklearn.metrics import mean_squared_error, r2_score\n",
    "from keras import losses\n",
    "from datetime import datetime, timedelta"
   ]
  },
  {
   "attachments": {},
   "cell_type": "markdown",
   "metadata": {},
   "source": [
    "## 1. Import dữ liệu\n",
    "**Tính chất của dữ liệu:**\n",
    "- Dữ liệu là thông tin về traffic của các cell 4G (Cell 4G là thiết bị phát sóng vô tuyến để phục vụ các thiết bị). Traffic của cell 4G được hiểu đơn giản như sau: Khi người dùng sử dụng dịch vụ data trên thiết bị di động, thì thiết bị di động đó sẽ được phục vụ bởi 1 cell 4G được đặt gần đó. Tổng dung lượng data của tất cả các người dùng được phục vụ bởi 1 cell trong vòng 1 giờ được gọi là Traffic của cell đó trong vòng 1 giờ. VD: Cell 039872 đang phục vụ cho 50 thuê bao, mỗi thuê bao trong 1 giờ x sử dụng trung bình 10Mb => Traffic của cell 039872. Vậy traffic của cell này trong giờ x = 50 * 10 = 500Mb.\n",
    "- Tập dữ liệu có: 57 cell\n",
    "- Dữ liệu được lấy trong vòng xấp xỉ 1 năm x 24 giờ x 57 cell.\n",
    "- Tính chất của traffic sẽ có sự khác nhau theo từng giờ (VD: vào khoảng thời gian 10-12h và 19-23h traffic sẽ rất cao, 0-6h traffic sẽ rất thấp); khác nhau giữa các ngày trong tuần (VD: đồ thị traffic của các cell phục vụ tòa nhà công sở, sẽ có traffic cao vào thứ 2-6 và thấp vào thứ 7, chủ nhật); khác nhau vào các sự kiện đặc biệt (lễ hội, tết, ...)\n",
    "\n",
    "<img src=\"data.png\" />\n",
    "\n",
    "**Dữ liệu được phân bố như sau:**\n",
    "- TrafficNow: Dữ liệu lưu lượng cần dự đoán\n",
    "- TrafficBefore(x)Week: Dữ liệu traffic của cùng giờ, ngày cùng thứ của (x) tuần trước\n",
    "- TrafficBefore1Day: Dữ liệu traffic của cùng giờ ngày hôm qua\n",
    "- DayOfWeek_xxx: Mô tả ngày trong tuần, được biểu diễn ở dạng one-hot-vector\n",
    "- HourID_xx: Mô tả giờ trong ngày, được biểu diễn ở dạng one-hot-vector\n",
    "- Cell_xxxxxx: Tên của cell cần dự đoán, được biểu diễn ở dạng one-hot-vector\n",
    "\n"
   ]
  },
  {
   "cell_type": "code",
   "execution_count": 16,
   "metadata": {},
   "outputs": [
    {
     "data": {
      "text/html": [
       "<div>\n",
       "<style scoped>\n",
       "    .dataframe tbody tr th:only-of-type {\n",
       "        vertical-align: middle;\n",
       "    }\n",
       "\n",
       "    .dataframe tbody tr th {\n",
       "        vertical-align: top;\n",
       "    }\n",
       "\n",
       "    .dataframe thead th {\n",
       "        text-align: right;\n",
       "    }\n",
       "</style>\n",
       "<table border=\"1\" class=\"dataframe\">\n",
       "  <thead>\n",
       "    <tr style=\"text-align: right;\">\n",
       "      <th></th>\n",
       "      <th>TrafficNow</th>\n",
       "      <th>TrafficBefore1Week</th>\n",
       "      <th>TrafficBefore2Week</th>\n",
       "      <th>TrafficBefore3Week</th>\n",
       "      <th>TrafficBefore4Week</th>\n",
       "      <th>TrafficBefore5Week</th>\n",
       "      <th>TrafficBefore1Day</th>\n",
       "      <th>DayOfWeek_Friday</th>\n",
       "      <th>DayOfWeek_Monday</th>\n",
       "      <th>DayOfWeek_Saturday</th>\n",
       "      <th>...</th>\n",
       "      <th>Cell_006653</th>\n",
       "      <th>Cell_006661</th>\n",
       "      <th>Cell_006662</th>\n",
       "      <th>Cell_006663</th>\n",
       "      <th>Cell_007371</th>\n",
       "      <th>Cell_007372</th>\n",
       "      <th>Cell_007373</th>\n",
       "      <th>Cell_039871</th>\n",
       "      <th>Cell_039872</th>\n",
       "      <th>Cell_039873</th>\n",
       "    </tr>\n",
       "  </thead>\n",
       "  <tbody>\n",
       "    <tr>\n",
       "      <th>0</th>\n",
       "      <td>1.95049</td>\n",
       "      <td>3.45251</td>\n",
       "      <td>3.88154</td>\n",
       "      <td>0.67497</td>\n",
       "      <td>2.76124</td>\n",
       "      <td>1.07481</td>\n",
       "      <td>26.43944</td>\n",
       "      <td>0</td>\n",
       "      <td>1</td>\n",
       "      <td>0</td>\n",
       "      <td>...</td>\n",
       "      <td>0</td>\n",
       "      <td>0</td>\n",
       "      <td>0</td>\n",
       "      <td>0</td>\n",
       "      <td>0</td>\n",
       "      <td>0</td>\n",
       "      <td>0</td>\n",
       "      <td>0</td>\n",
       "      <td>0</td>\n",
       "      <td>0</td>\n",
       "    </tr>\n",
       "    <tr>\n",
       "      <th>1</th>\n",
       "      <td>2.06227</td>\n",
       "      <td>27.04928</td>\n",
       "      <td>53.95673</td>\n",
       "      <td>45.93827</td>\n",
       "      <td>396.31315</td>\n",
       "      <td>129.68689</td>\n",
       "      <td>319.04114</td>\n",
       "      <td>0</td>\n",
       "      <td>1</td>\n",
       "      <td>0</td>\n",
       "      <td>...</td>\n",
       "      <td>0</td>\n",
       "      <td>0</td>\n",
       "      <td>0</td>\n",
       "      <td>0</td>\n",
       "      <td>0</td>\n",
       "      <td>0</td>\n",
       "      <td>0</td>\n",
       "      <td>0</td>\n",
       "      <td>0</td>\n",
       "      <td>0</td>\n",
       "    </tr>\n",
       "    <tr>\n",
       "      <th>2</th>\n",
       "      <td>12.89175</td>\n",
       "      <td>6.38868</td>\n",
       "      <td>41.50733</td>\n",
       "      <td>4.36321</td>\n",
       "      <td>228.49229</td>\n",
       "      <td>148.60854</td>\n",
       "      <td>210.71901</td>\n",
       "      <td>0</td>\n",
       "      <td>1</td>\n",
       "      <td>0</td>\n",
       "      <td>...</td>\n",
       "      <td>0</td>\n",
       "      <td>1</td>\n",
       "      <td>0</td>\n",
       "      <td>0</td>\n",
       "      <td>0</td>\n",
       "      <td>0</td>\n",
       "      <td>0</td>\n",
       "      <td>0</td>\n",
       "      <td>0</td>\n",
       "      <td>0</td>\n",
       "    </tr>\n",
       "    <tr>\n",
       "      <th>3</th>\n",
       "      <td>11.24707</td>\n",
       "      <td>11.12675</td>\n",
       "      <td>144.50127</td>\n",
       "      <td>5.79522</td>\n",
       "      <td>11.42107</td>\n",
       "      <td>4.30791</td>\n",
       "      <td>35.12747</td>\n",
       "      <td>0</td>\n",
       "      <td>1</td>\n",
       "      <td>0</td>\n",
       "      <td>...</td>\n",
       "      <td>0</td>\n",
       "      <td>0</td>\n",
       "      <td>0</td>\n",
       "      <td>0</td>\n",
       "      <td>0</td>\n",
       "      <td>0</td>\n",
       "      <td>0</td>\n",
       "      <td>0</td>\n",
       "      <td>0</td>\n",
       "      <td>0</td>\n",
       "    </tr>\n",
       "    <tr>\n",
       "      <th>4</th>\n",
       "      <td>4.00801</td>\n",
       "      <td>1.94321</td>\n",
       "      <td>1.66815</td>\n",
       "      <td>1.13586</td>\n",
       "      <td>0.02628</td>\n",
       "      <td>3.27327</td>\n",
       "      <td>2.25571</td>\n",
       "      <td>0</td>\n",
       "      <td>1</td>\n",
       "      <td>0</td>\n",
       "      <td>...</td>\n",
       "      <td>0</td>\n",
       "      <td>0</td>\n",
       "      <td>0</td>\n",
       "      <td>0</td>\n",
       "      <td>0</td>\n",
       "      <td>1</td>\n",
       "      <td>0</td>\n",
       "      <td>0</td>\n",
       "      <td>0</td>\n",
       "      <td>0</td>\n",
       "    </tr>\n",
       "  </tbody>\n",
       "</table>\n",
       "<p>5 rows × 95 columns</p>\n",
       "</div>"
      ],
      "text/plain": [
       "   TrafficNow  TrafficBefore1Week  TrafficBefore2Week  TrafficBefore3Week  \\\n",
       "0     1.95049             3.45251             3.88154             0.67497   \n",
       "1     2.06227            27.04928            53.95673            45.93827   \n",
       "2    12.89175             6.38868            41.50733             4.36321   \n",
       "3    11.24707            11.12675           144.50127             5.79522   \n",
       "4     4.00801             1.94321             1.66815             1.13586   \n",
       "\n",
       "   TrafficBefore4Week  TrafficBefore5Week  TrafficBefore1Day  \\\n",
       "0             2.76124             1.07481           26.43944   \n",
       "1           396.31315           129.68689          319.04114   \n",
       "2           228.49229           148.60854          210.71901   \n",
       "3            11.42107             4.30791           35.12747   \n",
       "4             0.02628             3.27327            2.25571   \n",
       "\n",
       "   DayOfWeek_Friday  DayOfWeek_Monday  DayOfWeek_Saturday     ...       \\\n",
       "0                 0                 1                   0     ...        \n",
       "1                 0                 1                   0     ...        \n",
       "2                 0                 1                   0     ...        \n",
       "3                 0                 1                   0     ...        \n",
       "4                 0                 1                   0     ...        \n",
       "\n",
       "   Cell_006653  Cell_006661  Cell_006662  Cell_006663  Cell_007371  \\\n",
       "0            0            0            0            0            0   \n",
       "1            0            0            0            0            0   \n",
       "2            0            1            0            0            0   \n",
       "3            0            0            0            0            0   \n",
       "4            0            0            0            0            0   \n",
       "\n",
       "   Cell_007372  Cell_007373  Cell_039871  Cell_039872  Cell_039873  \n",
       "0            0            0            0            0            0  \n",
       "1            0            0            0            0            0  \n",
       "2            0            0            0            0            0  \n",
       "3            0            0            0            0            0  \n",
       "4            1            0            0            0            0  \n",
       "\n",
       "[5 rows x 95 columns]"
      ]
     },
     "execution_count": 16,
     "metadata": {},
     "output_type": "execute_result"
    }
   ],
   "source": [
    "train = pd.read_csv(\"DataProcessing.csv\", sep=',')\n",
    "train.head()"
   ]
  },
  {
   "cell_type": "markdown",
   "metadata": {},
   "source": [
    "## 2. Phân chia bộ dữ liệu\n",
    "Dữ liệu đã được sắp xếp theo thứ tự thời gian. Các bộ dữ liệu đầu tiên là là dữ liệu của quá khứ xa nhất. Vì vậy tập test sẽ dự đoán lưu lượng của tuần cuối cùng trong bộ dữ liệu.\n",
    "- Bộ dữ liệu dự đoán traffic của 57 cell\n",
    "- Trong vòng 7 ngày x 24 giờ\n",
    "=> Dữ liệu bộ test sẽ gồm 57 * 7 * 24 = 9576\n"
   ]
  },
  {
   "cell_type": "code",
   "execution_count": 17,
   "metadata": {},
   "outputs": [],
   "source": [
    "_test = train[-9576:].copy()\n",
    "_train = train[0:-9576].copy()"
   ]
  },
  {
   "cell_type": "code",
   "execution_count": 8,
   "metadata": {},
   "outputs": [
    {
     "name": "stderr",
     "output_type": "stream",
     "text": [
      "D:\\Anaconda3\\lib\\site-packages\\matplotlib\\axes\\_axes.py:6462: UserWarning: The 'normed' kwarg is deprecated, and has been replaced by the 'density' kwarg.\n",
      "  warnings.warn(\"The 'normed' kwarg is deprecated, and has been \"\n"
     ]
    },
    {
     "data": {
      "text/plain": [
       "<matplotlib.axes._subplots.AxesSubplot at 0x1f24c5454e0>"
      ]
     },
     "execution_count": 8,
     "metadata": {},
     "output_type": "execute_result"
    },
    {
     "data": {
      "image/png": "[encoded data removed]",
      "text/plain": [
       "<Figure size 432x288 with 1 Axes>"
      ]
     },
     "metadata": {},
     "output_type": "display_data"
    }
   ],
   "source": [
    "sns.distplot(_train['TrafficNow'])"
   ]
  },
  {
   "cell_type": "markdown",
   "metadata": {},
   "source": [
    "## 3. Phân chia feature & label"
   ]
  },
  {
   "cell_type": "code",
   "execution_count": 10,
   "metadata": {},
   "outputs": [],
   "source": [
    "dropHeader = ['TrafficNow']\n",
    "dataTrainX = _train.drop(dropHeader,axis=1)\n",
    "dataTrainY = np.asarray(_train['TrafficNow']).reshape(-1,1)\n",
    "dataTestX = _test.drop(dropHeader,axis=1)\n",
    "dataTestY = np.asarray(_test['TrafficNow']).reshape(-1,1)"
   ]
  },
  {
   "cell_type": "code",
   "execution_count": 11,
   "metadata": {},
   "outputs": [
    {
     "name": "stdout",
     "output_type": "stream",
     "text": [
      "(431070, 94) (431070, 1) (9576, 94) (9576, 1)\n"
     ]
    }
   ],
   "source": [
    "print(dataTrainX.shape, dataTrainY.shape, dataTestX.shape, dataTestY.shape)"
   ]
  },
  {
   "cell_type": "markdown",
   "metadata": {},
   "source": [
    "## 4. Normalization"
   ]
  },
  {
   "cell_type": "code",
   "execution_count": 18,
   "metadata": {},
   "outputs": [],
   "source": [
    "trainX = dataTrainX.copy()\n",
    "trainY = dataTrainY.copy()\n",
    "testX = dataTestX.copy()\n",
    "testY = dataTestY.copy()\n",
    "scalarX, scalarY, scalarTX, scalarTY = MinMaxScaler(), MinMaxScaler(), MinMaxScaler(), MinMaxScaler()\n",
    "scalarX.fit(trainX)\n",
    "scalarY.fit(trainY)\n",
    "scalarTX.fit(testX)\n",
    "scalarTY.fit(testY)\n",
    "trainX2 = scalarX.transform(trainX)\n",
    "trainY2 = scalarY.transform(trainY)\n",
    "testX2 = scalarTX.transform(testX)\n",
    "testY2 = scalarTY.transform(testY)"
   ]
  },
  {
   "cell_type": "code",
   "execution_count": 19,
   "metadata": {},
   "outputs": [
    {
     "data": {
      "text/plain": [
       "array([[0.19924919, 0.23261246, 0.29684251, 0.27455826, 0.17168786,\n",
       "        0.13722442, 0.        , 1.        , 0.        , 0.        ,\n",
       "        0.        , 0.        , 0.        , 0.        , 0.        ,\n",
       "        0.        , 0.        , 0.        , 0.        , 0.        ,\n",
       "        0.        , 0.        , 0.        , 0.        , 0.        ,\n",
       "        0.        , 0.        , 0.        , 0.        , 0.        ,\n",
       "        0.        , 0.        , 1.        , 0.        , 0.        ,\n",
       "        0.        , 0.        , 0.        , 0.        , 0.        ,\n",
       "        0.        , 0.        , 0.        , 0.        , 0.        ,\n",
       "        0.        , 0.        , 0.        , 0.        , 0.        ,\n",
       "        0.        , 0.        , 0.        , 0.        , 0.        ,\n",
       "        0.        , 0.        , 0.        , 0.        , 0.        ,\n",
       "        0.        , 0.        , 0.        , 0.        , 0.        ,\n",
       "        0.        , 0.        , 0.        , 0.        , 0.        ,\n",
       "        0.        , 0.        , 0.        , 0.        , 0.        ,\n",
       "        0.        , 0.        , 0.        , 0.        , 0.        ,\n",
       "        0.        , 0.        , 0.        , 0.        , 0.        ,\n",
       "        0.        , 0.        , 1.        , 0.        , 0.        ,\n",
       "        0.        , 0.        , 0.        , 0.        ]])"
      ]
     },
     "execution_count": 19,
     "metadata": {},
     "output_type": "execute_result"
    }
   ],
   "source": [
    "testX2[0:1]"
   ]
  },
  {
   "cell_type": "code",
   "execution_count": 20,
   "metadata": {},
   "outputs": [
    {
     "data": {
      "text/plain": [
       "array([[0.1052892 ],\n",
       "       [0.05708136],\n",
       "       [0.32498663],\n",
       "       [0.51463026],\n",
       "       [0.07629053],\n",
       "       [0.16525487],\n",
       "       [0.10760744],\n",
       "       [0.35251833],\n",
       "       [0.21477589],\n",
       "       [0.0333192 ]])"
      ]
     },
     "execution_count": 20,
     "metadata": {},
     "output_type": "execute_result"
    }
   ],
   "source": [
    "testY2[0:10]"
   ]
  },
  {
   "cell_type": "markdown",
   "metadata": {},
   "source": [
    "## 5. Shuffle data in train set"
   ]
  },
  {
   "cell_type": "code",
   "execution_count": 15,
   "metadata": {},
   "outputs": [],
   "source": [
    "ind_list = [i for i in range(trainX2.shape[0])]\n",
    "shuffle(ind_list)\n",
    "trainX_new  = trainX2[ind_list,]\n",
    "trainY_new = trainY2[ind_list,]"
   ]
  },
  {
   "cell_type": "markdown",
   "metadata": {},
   "source": [
    "## 6. Sử dụng Linear Regression"
   ]
  },
  {
   "cell_type": "code",
   "execution_count": 21,
   "metadata": {},
   "outputs": [
    {
     "name": "stdout",
     "output_type": "stream",
     "text": [
      "0.6071945261740803\n"
     ]
    }
   ],
   "source": [
    "clf=LinearRegression()\n",
    "clf.fit(trainX2,trainY2)\n",
    "accuracy = clf.score(testX2,testY2)\n",
    "print(accuracy)"
   ]
  },
  {
   "cell_type": "code",
   "execution_count": 22,
   "metadata": {},
   "outputs": [],
   "source": [
    "predY2 = clf.predict(testX2)"
   ]
  },
  {
   "cell_type": "code",
   "execution_count": 23,
   "metadata": {},
   "outputs": [
    {
     "data": {
      "text/plain": [
       "array([[0.19108963],\n",
       "       [0.12078667],\n",
       "       [0.37356949],\n",
       "       [0.38201332],\n",
       "       [0.16599655],\n",
       "       [0.21719551],\n",
       "       [0.16055107],\n",
       "       [0.39803505],\n",
       "       [0.16423988],\n",
       "       [0.13841629]])"
      ]
     },
     "execution_count": 23,
     "metadata": {},
     "output_type": "execute_result"
    }
   ],
   "source": [
    "predY2[0:10]"
   ]
  },
  {
   "cell_type": "code",
   "execution_count": 24,
   "metadata": {},
   "outputs": [
    {
     "data": {
      "text/plain": [
       "array([[0.1052892 ],\n",
       "       [0.05708136],\n",
       "       [0.32498663],\n",
       "       [0.51463026],\n",
       "       [0.07629053],\n",
       "       [0.16525487],\n",
       "       [0.10760744],\n",
       "       [0.35251833],\n",
       "       [0.21477589],\n",
       "       [0.0333192 ]])"
      ]
     },
     "execution_count": 24,
     "metadata": {},
     "output_type": "execute_result"
    }
   ],
   "source": [
    "testY2[0:10]"
   ]
  },
  {
   "cell_type": "code",
   "execution_count": 33,
   "metadata": {},
   "outputs": [
    {
     "name": "stdout",
     "output_type": "stream",
     "text": [
      "MSE - Linear Regression: 385604.20961975894\n"
     ]
    }
   ],
   "source": [
    "predY2inver = scalarTY.inverse_transform(predY2)\n",
    "np.savetxt('LinearRegressionForm.csv', predY2inver, delimiter=',')\n",
    "print(\"MSE - Linear Regression:\", mean_squared_error(np.array(testY), predY2inver))"
   ]
  },
  {
   "cell_type": "markdown",
   "metadata": {},
   "source": [
    "## 7. Sử dụng FFNN"
   ]
  },
  {
   "cell_type": "code",
   "execution_count": 36,
   "metadata": {},
   "outputs": [
    {
     "name": "stdout",
     "output_type": "stream",
     "text": [
      "_________________________________________________________________\n",
      "Layer (type)                 Output Shape              Param #   \n",
      "=================================================================\n",
      "dense_7 (Dense)              (None, 1000)              95000     \n",
      "_________________________________________________________________\n",
      "dense_8 (Dense)              (None, 512)               512512    \n",
      "_________________________________________________________________\n",
      "dense_9 (Dense)              (None, 512)               262656    \n",
      "_________________________________________________________________\n",
      "dense_10 (Dense)             (None, 1)                 513       \n",
      "=================================================================\n",
      "Total params: 870,681\n",
      "Trainable params: 870,681\n",
      "Non-trainable params: 0\n",
      "_________________________________________________________________\n",
      "None\n"
     ]
    }
   ],
   "source": [
    "from keras.optimizers import SGD, Adam\n",
    "from keras.layers import Dense, Dropout\n",
    "# sgd = SGD(lr=0.01, decay=1e-5, momentum=0.9, nesterov=True)\n",
    "# adam = Adam(lr=0.001, beta_1=0.9, beta_2=0.999, epsilon=None, decay=0.0, amsgrad=False)\n",
    "# define and fit the final model\n",
    "model = Sequential()\n",
    "model.add(Dense(1000, input_dim=94, activation='relu'))\n",
    "# model.add(Dropout(0.25))\n",
    "model.add(Dense(512, activation='relu'))\n",
    "# model.add(Dropout(0.75))\n",
    "model.add(Dense(512, activation='relu'))\n",
    "# model.add(Dropout(0.75))\n",
    "model.add(Dense(1, activation='linear'))\n",
    "model.compile(loss='mse', # Mean squared error\n",
    "                optimizer='adam', # Optimization algorithm \n",
    "                metrics=['mse'])\n",
    "print(model.summary())"
   ]
  },
  {
   "cell_type": "code",
   "execution_count": 37,
   "metadata": {},
   "outputs": [
    {
     "name": "stdout",
     "output_type": "stream",
     "text": [
      "Train on 431070 samples, validate on 9576 samples\n",
      "Epoch 1/5\n",
      "431070/431070 [==============================] - 7s 16us/step - loss: 0.0023 - mean_squared_error: 0.0023 - val_loss: 0.0037 - val_mean_squared_error: 0.0037\n",
      "Epoch 2/5\n",
      "431070/431070 [==============================] - 6s 15us/step - loss: 0.0021 - mean_squared_error: 0.0021 - val_loss: 0.0034 - val_mean_squared_error: 0.0034\n",
      "Epoch 3/5\n",
      "431070/431070 [==============================] - 6s 15us/step - loss: 0.0021 - mean_squared_error: 0.0021 - val_loss: 0.0034 - val_mean_squared_error: 0.0034\n",
      "Epoch 4/5\n",
      "431070/431070 [==============================] - 6s 15us/step - loss: 0.0021 - mean_squared_error: 0.0021 - val_loss: 0.0033 - val_mean_squared_error: 0.0033\n",
      "Epoch 5/5\n",
      "431070/431070 [==============================] - 7s 16us/step - loss: 0.0021 - mean_squared_error: 0.0021 - val_loss: 0.0032 - val_mean_squared_error: 0.0032\n",
      "MSE - FFNN: 348071.8670709091\n"
     ]
    }
   ],
   "source": [
    "model.fit(trainX2, trainY2, batch_size=512, epochs=5, validation_data=(testX2, testY2))\n",
    "ypred = model.predict(testX2)\n",
    "ypredInverse = scalarY.inverse_transform(ypred)\n",
    "np.savetxt('FFNN.csv', ypredInverse, delimiter=',')\n",
    "print(\"MSE - FFNN:\",mean_squared_error(np.array(testY), ypredInverse))"
   ]
  },
  {
   "cell_type": "markdown",
   "metadata": {},
   "source": [
    "## 8. Sử dụng GradientBoostingRegressor"
   ]
  },
  {
   "cell_type": "code",
   "execution_count": 41,
   "metadata": {},
   "outputs": [],
   "source": [
    "from sklearn.ensemble import GradientBoostingRegressor"
   ]
  },
  {
   "cell_type": "code",
   "execution_count": 42,
   "metadata": {},
   "outputs": [],
   "source": [
    "est = GradientBoostingRegressor(n_estimators=100, max_depth=3, loss='ls')"
   ]
  },
  {
   "cell_type": "code",
   "execution_count": 43,
   "metadata": {},
   "outputs": [
    {
     "name": "stderr",
     "output_type": "stream",
     "text": [
      "D:\\Anaconda3\\lib\\site-packages\\sklearn\\utils\\validation.py:578: DataConversionWarning: A column-vector y was passed when a 1d array was expected. Please change the shape of y to (n_samples, ), for example using ravel().\n",
      "  y = column_or_1d(y, warn=True)\n"
     ]
    },
    {
     "data": {
      "text/plain": [
       "GradientBoostingRegressor(alpha=0.9, criterion='friedman_mse', init=None,\n",
       "             learning_rate=0.1, loss='ls', max_depth=3, max_features=None,\n",
       "             max_leaf_nodes=None, min_impurity_decrease=0.0,\n",
       "             min_impurity_split=None, min_samples_leaf=1,\n",
       "             min_samples_split=2, min_weight_fraction_leaf=0.0,\n",
       "             n_estimators=100, presort='auto', random_state=None,\n",
       "             subsample=1.0, verbose=0, warm_start=False)"
      ]
     },
     "execution_count": 43,
     "metadata": {},
     "output_type": "execute_result"
    }
   ],
   "source": [
    "est.fit(trainX2, trainY2)"
   ]
  },
  {
   "cell_type": "code",
   "execution_count": 44,
   "metadata": {},
   "outputs": [
    {
     "data": {
      "text/plain": [
       "366281.3897410968"
      ]
     },
     "execution_count": 44,
     "metadata": {},
     "output_type": "execute_result"
    }
   ],
   "source": [
    "predY2GBR = est.predict(testX2)\n",
    "predY2GBR = predY2GBR.reshape(-1,1)\n",
    "ynew2 = scalarY.inverse_transform(predY2GBR)\n",
    "np.savetxt('GBR.csv', ynew2, delimiter=',')   # X is an array\n",
    "mean_squared_error(np.array(testY), ynew2)"
   ]
  },
  {
   "attachments": {},
   "cell_type": "markdown",
   "metadata": {},
   "source": [
    "## 9. Nhận xét:\n",
    "Sử dụng các thuật toán khác nhau cho ra độ chính xác (MSE) như sau:\n",
    "- Linear Regression: **385604.21**\n",
    "- FFNN: **348071.87**\n",
    "- GradientBoostingRegressor: **366281.39**\n",
    "\n",
    "So sánh với cách dự đoán bằng phương pháp tính toán bình thường \n",
    "\n",
    "$ TrafficNow = \\frac{TrafficBefore1Week + TrafficBefore2Week + TrafficBefore3Week + TrafficBefore4Week + TrafficBefore5Week + TrafficBefore1Day}{6} $\n",
    "\n",
    "Kêt quả: MSE = **370421.69**\n",
    "\n",
    "=> Khi so sánh kết quả sử dụng ML và cách tính thông thường chỉ tốt hơn ~ **6-7%**"
   ]
  }
 ],
 "metadata": {
  "kernelspec": {
   "display_name": "Python 3",
   "language": "python",
   "name": "python3"
  },
  "language_info": {
   "codemirror_mode": {
    "name": "ipython",
    "version": 3
   },
   "file_extension": ".py",
   "mimetype": "text/x-python",
   "name": "python",
   "nbconvert_exporter": "python",
   "pygments_lexer": "ipython3",
   "version": "3.6.5"
  }
 },
 "nbformat": 4,
 "nbformat_minor": 2
}
